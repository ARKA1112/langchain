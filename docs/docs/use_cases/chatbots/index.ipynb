{
 "cells": [
  {
   "cell_type": "markdown",
   "metadata": {},
   "source": [
    "# Chatbots\n",
    "\n",
    "## Overview\n",
    "\n",
    "Chatbots are one of the most popular use-cases for LLMs. The core features of chatbots are that they can have long-running, stateful conversations and can answer user questions using relevant information.\n",
    "\n",
    "## Architectures\n",
    "\n",
    "Designing a chatbot can incorporate various techniques with different tradeoffs depending on what sorts of questions you expect it to handle.\n",
    "\n",
    "For example, one common technique chatbots use is [retrieval-augmented generation](/docs/use_cases/question_answering/) over private data in order to better answer domain-specific questions. You also might choose to route between multiple data sources to ensure it only uses the most topical context for final question answering. You also may choose to use a more specialized type of chat history or memory than just passing messages back and forth. Optimizations like this make the bot more powerful, but add latency since they require additional LLM calls.\n",
    "\n",
    "![Image description](../../../static/img/chat_use_case.png)\n",
    "\n",
    "## Table of contents\n",
    "\n",
    "- [Quickstart](/docs/use_cases/chatbots/quickstart): We recommend starting here. Many of the following guides assume you fully understand the architecture shown in the Quickstart.\n",
    "- "
   ]
  }
 ],
 "metadata": {
  "language_info": {
   "name": "python"
  }
 },
 "nbformat": 4,
 "nbformat_minor": 2
}
